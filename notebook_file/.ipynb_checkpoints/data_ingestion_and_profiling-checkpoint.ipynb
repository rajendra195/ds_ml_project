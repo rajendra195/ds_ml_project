{
 "cells": [
  {
   "cell_type": "markdown",
   "metadata": {},
   "source": [
    "# Packages and Libraries"
   ]
  },
  {
   "cell_type": "code",
   "execution_count": null,
   "metadata": {},
   "outputs": [],
   "source": [
    "import pandas as pd\n",
    "import numpy as np\n",
    "import matplotlib.pyplot as plt\n",
    "import seaborn as sns"
   ]
  },
  {
   "cell_type": "markdown",
   "metadata": {},
   "source": [
    "# Data Ingestion"
   ]
  },
  {
   "cell_type": "code",
   "execution_count": null,
   "metadata": {},
   "outputs": [],
   "source": [
    "# Loading datasets using pandas read_csv method to create a DataFrame\n",
    "file_path = \"G:/Data science/DS_ML_Project/datasets/autos.csv\"\n",
    "df = pd.read_csv(file_path) "
   ]
  },
  {
   "cell_type": "markdown",
   "metadata": {},
   "source": [
    "#### About Datasets\n",
    "The autos.csv dataset is a comprehensive collection of valuable data about used cars, and provides insight into how the cars are being sold, what price they are being sold for, and all the details about their condition. Each ad contains information such as dateCrawled (the date the ad was first seen), name of the car, seller type (private or dealer), offer type, price, A/B testing information , vehicle type, year of registration (at which year was the car first registered) , gearbox type, power output in PS (horsepower) , model of car , howmany kilometers has it driven so far , monthof registration(when it was first registered)(essentially giving us an idea about its age), fueltype utilized by it( petrol/diesel /electricity/lpg etc.), brand name to which it belongs to  notRepairedDamage - if there is any damage on the vehicle that has not been repaired yet. DateCreated gives us information when this particular advertisement was created in ebay or other place where these cars can be posted. The nrofpictures field will give you an estimate regarding how many images have been included with this ad and postalcode contain info regarding area code where car have been posted.. Lastly lastseen give us time estimation when a crawler last scan this particular post online .All these factors are instrumental in determining a suitable price for used vehicles . Meanwhile regression analysis based on average prices related to years can be done from this dataset ."
   ]
  },
  {
   "cell_type": "markdown",
   "metadata": {},
   "source": [
    "# Data Profiling"
   ]
  },
  {
   "cell_type": "code",
   "execution_count": null,
   "metadata": {},
   "outputs": [],
   "source": [
    "# First five rows of the DataFrame\n",
    "df.head()"
   ]
  },
  {
   "cell_type": "markdown",
   "metadata": {},
   "source": [
    "#### All Columns:<br>\n",
    "`dateCrawled`: Date the car was crawled. (Date)<br>\n",
    "`name`: Name of the car. (String)<br>\n",
    "`seller`: Type of seller (private or dealer). (String)<br>\n",
    "`offerType`: Type of offer (e.g. sale, repair, etc.). (String)<br>\n",
    "`price`: Price of the car. (Integer)<br>\n",
    "`abtest`: Test type (A or B). (String)<br>\n",
    "`vehicleType`: Type of vehicle (e.g. SUV, sedan, etc.). (String)<br>\n",
    "`yearOfRegistration`: Year the car was registered. (Integer)<br>\n",
    "`gearbox`: Type of gearbox (manual or automatic). (String)<br>\n",
    "`powerPS`: Power of the car in PS. (Integer)<br>\n",
    "`model`: Model of the car. (String)<br>\n",
    "`kilometer`: Kilometers the car has been driven. (Integer)<br>\n",
    "`monthOfRegistration`: Month the car was registered. (Integer)<br>\n",
    "`fuelType`: Type of fuel (e.g. diesel, petrol, etc.). (String)<br>\n",
    "`brand`: Brand of the car. (String)<br>\n",
    "`notRepairedDamage`: Whether or not the car has any damage that has not been repaired. (String)<br>\n",
    "`dateCreated`: Date the car was created. (Date)<br>\n",
    "`nrOfPictures`: Number of pictures of the car. (Integer)<br>\n",
    "`postalCode`: Postal code of the car. (Integer)<br>\n",
    "`lastSeen`: Date the car was last seen. (Date)<br>"
   ]
  },
  {
   "cell_type": "code",
   "execution_count": null,
   "metadata": {},
   "outputs": [],
   "source": [
    "# Shape of the datasets/ DataFrame\n",
    "df.shape"
   ]
  },
  {
   "cell_type": "markdown",
   "metadata": {},
   "source": [
    "Datasets contains,\n",
    "* `3,71,528` number of rows \n",
    "* `21` number of columns"
   ]
  },
  {
   "cell_type": "code",
   "execution_count": null,
   "metadata": {},
   "outputs": [],
   "source": [
    "# name of all the columns\n",
    "df.columns"
   ]
  },
  {
   "cell_type": "markdown",
   "metadata": {},
   "source": [
    "Above information shows all the `columns` name of the datasets."
   ]
  },
  {
   "cell_type": "code",
   "execution_count": null,
   "metadata": {},
   "outputs": [],
   "source": [
    "# checking the data types of the columns in the DataFrame\n",
    "df.dtypes"
   ]
  },
  {
   "cell_type": "markdown",
   "metadata": {},
   "source": [
    "Datatypes of all the `columns` in the datasets are either `int` or `object`."
   ]
  },
  {
   "cell_type": "code",
   "execution_count": null,
   "metadata": {},
   "outputs": [],
   "source": [
    "# .info() gives overall information of the datasets like columns, rows, datatypes, null values, etc.\n",
    "df.info()"
   ]
  },
  {
   "cell_type": "markdown",
   "metadata": {},
   "source": [
    "With above information we can see total number of `rows`, `columns` of the datasets, `not null` values<br>\n",
    "and `dtypes` of each `columns` and `memory usage` by the datasets."
   ]
  },
  {
   "cell_type": "code",
   "execution_count": null,
   "metadata": {},
   "outputs": [],
   "source": [
    "# gives true false values if data in datasets are null it returns True else False.\n",
    "df.isna()"
   ]
  },
  {
   "cell_type": "markdown",
   "metadata": {},
   "source": [
    "We can see the True and False value using isna() method."
   ]
  },
  {
   "cell_type": "code",
   "execution_count": null,
   "metadata": {},
   "outputs": [],
   "source": [
    "# returns sum of the columns \n",
    "df.isna().sum(axis=0)"
   ]
  },
  {
   "cell_type": "markdown",
   "metadata": {},
   "source": [
    "In above information,<br>\n",
    "`vehicleType` contains 37869 missing values.<br>\n",
    "`gearbox` contains 20209 missing values.<br>\n",
    "`model` contains 20484 missing values.<br>\n",
    "`fuelType` contains 33386 missing values.<br>\n",
    "`notRepairedDamage` columns contains 72060 missing values.<br>\n",
    "and all the other columns doesn't contains missing values."
   ]
  },
  {
   "cell_type": "code",
   "execution_count": null,
   "metadata": {},
   "outputs": [],
   "source": [
    "# returns null value percentage\n",
    "df.isna().sum() / len(df) # total_null_sum / len_df"
   ]
  },
  {
   "cell_type": "markdown",
   "metadata": {},
   "source": [
    "In above information,<br>\n",
    "`vehicleType` contains `0.101%` missing values.<br>\n",
    "`gearbox` contains `0.054%` missing values.<br>\n",
    "`model` contains `0.055%` missing values.<br>\n",
    "`fuelType` contains `0.089%` missing values.<br>\n",
    "`notRepairedDamage` contains `0.19%` missing values.<br>"
   ]
  },
  {
   "cell_type": "code",
   "execution_count": null,
   "metadata": {},
   "outputs": [],
   "source": [
    "# descriptive statistics of integer columns\n",
    "df.describe(include=\"int\")"
   ]
  },
  {
   "cell_type": "markdown",
   "metadata": {},
   "source": [
    "Using `.describe()` method we get, `count`, `mean`, `standard deviation`, `first quartile`, `median`, `third quartile` and `max_value` of each columns of numerical datatypes in the datasets.<br>\n",
    "* In `yearOfRegistration` column, count is `371528`, mean is `2004.58`, standard deviation is `92.86`, min value is `1000`, first quartile is `1999`, median is `2003`, third quartile is `2008` and max value is `9999`.<br>\n",
    "* Similarly, each columns has it's own values."
   ]
  },
  {
   "cell_type": "code",
   "execution_count": null,
   "metadata": {},
   "outputs": [],
   "source": [
    "# descriptive statistics of object\n",
    "df.describe(include=\"object\")"
   ]
  },
  {
   "cell_type": "markdown",
   "metadata": {},
   "source": [
    "Using `.describe(include=\"object\")` method we get descriptive statistics of categorical data like `count`, `unique_values`, `top_value`, and `frequency_count`.<br><br>\n",
    "In the seller column, count is `371528`, unique_value is `2`, top frequency is `privat` and frequency count of privat is `371525`.\n",
    "Similarly, each column of categorical data has its own count, unique values, top frequency and frequency counts."
   ]
  },
  {
   "cell_type": "code",
   "execution_count": null,
   "metadata": {},
   "outputs": [],
   "source": [
    "df.head(2)"
   ]
  },
  {
   "cell_type": "markdown",
   "metadata": {},
   "source": [
    "#### Let's check if there is duplicate rows in the datasets"
   ]
  },
  {
   "cell_type": "code",
   "execution_count": null,
   "metadata": {},
   "outputs": [],
   "source": [
    "# returns True, False if there is duplicate rows\n",
    "df.duplicated()"
   ]
  },
  {
   "cell_type": "code",
   "execution_count": null,
   "metadata": {},
   "outputs": [],
   "source": [
    "# returns the sum of duplicate rows\n",
    "df.duplicated().sum()"
   ]
  },
  {
   "cell_type": "markdown",
   "metadata": {},
   "source": [
    "Since the sum of all the rows is 0, so the datasets doesn't contains duplicate rows."
   ]
  },
  {
   "cell_type": "markdown",
   "metadata": {},
   "source": [
    "#### Checking unique values in the datasets in categorical data"
   ]
  },
  {
   "cell_type": "code",
   "execution_count": null,
   "metadata": {},
   "outputs": [],
   "source": [
    "# unique values in the  column\n",
    "columns = [\"seller\", \"offerType\", \"abtest\", \"gearbox\"]\n",
    "\n",
    "for column in columns:\n",
    "    unique_value = df[column].unique()\n",
    "    print(f\"Unique values in {column} column are: {unique_value}.\")\n"
   ]
  },
  {
   "cell_type": "markdown",
   "metadata": {},
   "source": [
    ".unique() method gives the unique values in the columns.<br>\n",
    "Unique values in seller column are: `['privat' 'gewerblich']`.<br>\n",
    "Unique values in offerType column are: `['Angebot' 'Gesuch']`.<br>\n",
    "Unique values in abtest column are: `['test' 'control']`.<br>\n",
    "Unique values in gearbox column are: `['manuell' 'automatik' nan]`."
   ]
  },
  {
   "cell_type": "code",
   "execution_count": null,
   "metadata": {},
   "outputs": [],
   "source": [
    "# Number of unique values in the  column\n",
    "\n",
    "for column in columns:\n",
    "    unique_value_count = df[column].nunique()\n",
    "    print(f\"Number of Unique values in {column} column are: {unique_value_count}.\")"
   ]
  },
  {
   "cell_type": "markdown",
   "metadata": {},
   "source": [
    ".nuinque() method gives the number of unique values in the columns.<br>\n",
    "Number of unique values in the seller, offerType, abtest, gearbox columns are `2` each."
   ]
  },
  {
   "cell_type": "code",
   "execution_count": null,
   "metadata": {},
   "outputs": [],
   "source": [
    "# correlation of numerica columns in the datasets\n",
    "df.corr(numeric_only=True)"
   ]
  },
  {
   "cell_type": "code",
   "execution_count": null,
   "metadata": {},
   "outputs": [],
   "source": [
    "df.nrOfPictures"
   ]
  },
  {
   "cell_type": "code",
   "execution_count": null,
   "metadata": {},
   "outputs": [],
   "source": [
    "df.nrOfPictures.sum()"
   ]
  },
  {
   "cell_type": "markdown",
   "metadata": {},
   "source": [
    "Here, every value in the `nrOfPictures` columns is 0. So we will remove the column later."
   ]
  },
  {
   "cell_type": "markdown",
   "metadata": {},
   "source": [
    "# Data Cleaning"
   ]
  },
  {
   "cell_type": "code",
   "execution_count": null,
   "metadata": {},
   "outputs": [],
   "source": [
    "df.columns"
   ]
  },
  {
   "cell_type": "code",
   "execution_count": null,
   "metadata": {},
   "outputs": [],
   "source": [
    "df.sample(5)"
   ]
  },
  {
   "cell_type": "markdown",
   "metadata": {},
   "source": [
    "#### Removing the columns which are not useful\n",
    "We are aiming to predict the price of used cars, so we will remove the columns that do not influence the price.<br>\n",
    "`index`: This column is simply the row index.<br>\n",
    "`name`: This column  contain a string identifier for each row. It doesn't offer meaningful insights to Target variable.<br>\n",
    "`monthOfRegistration`: This column does impact price and datasets also contains yearOfRegistration column so we remove it.<br>\n",
    "`nrOfPictures`: All the values in the columns are 0 so we will remove it.<br>\n",
    "`postalCode`: The postal code provides information on geographic location, it may not directly afect target variable so we will remove it.<br>\n",
    "`dateCrawled`: The date when the data was crawled from the website does not relate directly to the car's price, so it can be removed.<br>\n",
    "`lastSeen`: The date when a listing was last seen online might not have a clear impact on the car's price and may be considered redundant.<br>\n",
    "`dateCreated` The date the listing was created may not have a direct relationship with the car's price, making it less useful for prediction.: \n"
   ]
  },
  {
   "cell_type": "code",
   "execution_count": null,
   "metadata": {},
   "outputs": [],
   "source": [
    "# columns that are to be removed\n",
    "column_to_remove = [\"index\", \"name\", \"monthOfRegistration\", \"nrOfPictures\", \"postalCode\", \"dateCreated\", \"lastSeen\", \"dateCrawled\"]\n",
    "\n",
    "#dropping the columns\n",
    "df.drop(column_to_remove, axis=\"columns\", inplace=True)"
   ]
  },
  {
   "cell_type": "code",
   "execution_count": null,
   "metadata": {},
   "outputs": [],
   "source": [
    "df.head(2)"
   ]
  },
  {
   "cell_type": "markdown",
   "metadata": {},
   "source": []
  },
  {
   "cell_type": "markdown",
   "metadata": {},
   "source": [
    "# Exploratory Data Analysis(EDA)"
   ]
  },
  {
   "cell_type": "code",
   "execution_count": null,
   "metadata": {},
   "outputs": [],
   "source": [
    "df.head()"
   ]
  },
  {
   "cell_type": "code",
   "execution_count": null,
   "metadata": {},
   "outputs": [],
   "source": [
    "df.columns"
   ]
  },
  {
   "cell_type": "markdown",
   "metadata": {},
   "source": [
    "#### Univariate Analysis and visualization of distribution of categorical data"
   ]
  },
  {
   "cell_type": "markdown",
   "metadata": {},
   "source": [
    "Function for univariate barplot"
   ]
  },
  {
   "cell_type": "code",
   "execution_count": null,
   "metadata": {},
   "outputs": [],
   "source": [
    "# function for univariate barplot\n",
    "def univariate_barplot(data, column):\n",
    "\n",
    "    # figure size of the barplot\n",
    "    plt.figure(figsize=(10, 8))\n",
    "\n",
    "    # value counts of the columns\n",
    "    value = data[column].value_counts()\n",
    "\n",
    "    # barplot using seaborn\n",
    "    ax = value.plot.bar(x=value.index, y=value.values, color=sns.color_palette(\"hls\"), rot=0)\n",
    "\n",
    "    total_value = value.sum()\n",
    "    \n",
    "    for plot in ax.patches:\n",
    "        # get height of each plot\n",
    "        height = plot.get_height()\n",
    "        \n",
    "        # annote each plot\n",
    "        ax.annotate(\n",
    "        \n",
    "            f\"{height / total_value * 100:.2f}%\",\n",
    "            xy = (\n",
    "                plot.get_x() + plot.get_width() / 2.,\n",
    "                height\n",
    "            ),\n",
    "            ha = \"center\"\n",
    "        )\n",
    "\n",
    "\n",
    "    \n",
    "    plt.ylabel(\"Frequency\")\n",
    "    plt.title(f\"Distribution plot of {column} in the datasets\")\n",
    "    plt.show()"
   ]
  },
  {
   "cell_type": "markdown",
   "metadata": {},
   "source": [
    "#### seller column"
   ]
  },
  {
   "cell_type": "code",
   "execution_count": null,
   "metadata": {},
   "outputs": [],
   "source": [
    "# value counts of seller column\n",
    "df.seller.value_counts()"
   ]
  },
  {
   "cell_type": "markdown",
   "metadata": {},
   "source": [
    "The seller column contains data on the type of seller, with 371,524 entries labeled as \"privat\" and only 3 entries labeled as \"gewerblich\". Since the vast majority of entries are of one type of seller (private), this column does not provide significant differentiation or insight for predicting the target variable (car price). Therefore, we will drop the seller column as it does not meaningfully impact the analysis."
   ]
  },
  {
   "cell_type": "code",
   "execution_count": null,
   "metadata": {},
   "outputs": [],
   "source": [
    "# dropping seller columns\n",
    "df.drop(\"seller\", axis=\"columns\", inplace=True)"
   ]
  },
  {
   "cell_type": "code",
   "execution_count": null,
   "metadata": {},
   "outputs": [],
   "source": [
    "df.head(2)"
   ]
  },
  {
   "cell_type": "markdown",
   "metadata": {},
   "source": [
    "#### offerType column"
   ]
  },
  {
   "cell_type": "code",
   "execution_count": null,
   "metadata": {},
   "outputs": [],
   "source": [
    "# value counts \n",
    "df[\"offerType\"].value_counts()"
   ]
  },
  {
   "cell_type": "markdown",
   "metadata": {},
   "source": [
    "The offerType column contains data with 371,516 rows labeled as \"Angebot\" and only 12 entries labeled as \"Gesuch\". Since the vast majority of entries are of one type of offerType (Angebot), this column does not provide significant differentiation or insight for predicting the target variable (car price). Therefore, we will drop the offerType column as it does not meaningfully impact the analysis."
   ]
  },
  {
   "cell_type": "code",
   "execution_count": null,
   "metadata": {},
   "outputs": [],
   "source": [
    "# dropping the offerType column\n",
    "df.drop(\"offerType\", axis=\"columns\", inplace=True)"
   ]
  },
  {
   "cell_type": "code",
   "execution_count": null,
   "metadata": {},
   "outputs": [],
   "source": [
    "df.head()"
   ]
  },
  {
   "cell_type": "markdown",
   "metadata": {},
   "source": [
    "#### abtest column"
   ]
  },
  {
   "cell_type": "code",
   "execution_count": null,
   "metadata": {},
   "outputs": [],
   "source": [
    "# value_counts\n",
    "df[\"abtest\"].value_counts()"
   ]
  },
  {
   "cell_type": "markdown",
   "metadata": {},
   "source": [
    "Abtest columns contains two types of abtest that is test and control.<br>\n",
    "* `192,585` entries are `test` type\n",
    "* `179,943` entries are `control` type"
   ]
  },
  {
   "cell_type": "code",
   "execution_count": null,
   "metadata": {},
   "outputs": [],
   "source": [
    "# barplot\n",
    "univariate_barplot(data=df, column=\"abtest\")"
   ]
  },
  {
   "cell_type": "markdown",
   "metadata": {},
   "source": [
    "Above barplot shows,\n",
    "* `51.84%` of data are `test` type.\n",
    "* `48.16%` of data are `control` type abtest."
   ]
  },
  {
   "cell_type": "markdown",
   "metadata": {},
   "source": [
    "#### vehicleType column"
   ]
  },
  {
   "cell_type": "code",
   "execution_count": null,
   "metadata": {},
   "outputs": [],
   "source": [
    "# value counts\n",
    "df[\"vehicleType\"].value_counts()"
   ]
  },
  {
   "cell_type": "markdown",
   "metadata": {},
   "source": [
    "vehicheType column contains 8 types of categorical data they are limousine, kleinwagen, kombi, bus, cabrio, coupe, suv and andere.\n",
    "* `95894` entries are `limousine` type.\n",
    "* `80023` entries are of `kleinwagen` type.\n",
    "* `67564` entries are of `kombi` type.\n",
    "* `30201` entries are of `bus` type.\n",
    "* `22898` entries are of `cabrio` type.\n",
    "* `19015` entries are of `coupe` type.\n",
    "* `14707` entries are of `suv` type.\n",
    "* `3357` enries are `andere` type."
   ]
  },
  {
   "cell_type": "code",
   "execution_count": null,
   "metadata": {},
   "outputs": [],
   "source": [
    "# barplot\n",
    "univariate_barplot(data=df, column=\"vehicleType\")"
   ]
  },
  {
   "cell_type": "markdown",
   "metadata": {},
   "source": [
    "Above barplot shows that \n",
    "* `28.74%` of data are `limousine` type.\n",
    "* `23.98%` of data are `kleinwagen` type.\n",
    "* `20.25%` of data are `kombi` type.\n",
    "* `9.05%` of data are  `bus` type.\n",
    "* `6.86%` of data are  `cabrio` type.\n",
    "* `5.70%` of data are  `coupe` type.\n",
    "* `4.41%` entries are  `suv` type.\n",
    "* `1.01%` of data are `andere` type."
   ]
  },
  {
   "cell_type": "markdown",
   "metadata": {},
   "source": [
    "#### gearbox column"
   ]
  },
  {
   "cell_type": "code",
   "execution_count": null,
   "metadata": {},
   "outputs": [],
   "source": [
    "# value counts\n",
    "df.gearbox.value_counts()"
   ]
  },
  {
   "cell_type": "code",
   "execution_count": null,
   "metadata": {},
   "outputs": [],
   "source": [
    "# barplot\n",
    "univariate_barplot(data=df, column=\"gearbox\")"
   ]
  },
  {
   "cell_type": "markdown",
   "metadata": {},
   "source": [
    "#### fuelType column"
   ]
  },
  {
   "cell_type": "code",
   "execution_count": null,
   "metadata": {},
   "outputs": [],
   "source": [
    "# valuecounts\n",
    "df[\"fuelType\"].value_counts()"
   ]
  },
  {
   "cell_type": "code",
   "execution_count": null,
   "metadata": {},
   "outputs": [],
   "source": [
    "#barplot\n",
    "univariate_barplot(data=df, column=\"fuelType\")"
   ]
  },
  {
   "cell_type": "markdown",
   "metadata": {},
   "source": [
    "#### nonRepairedDamage column"
   ]
  },
  {
   "cell_type": "code",
   "execution_count": null,
   "metadata": {},
   "outputs": [],
   "source": [
    "# valuecounts\n",
    "df.notRepairedDamage.value_counts()"
   ]
  },
  {
   "cell_type": "code",
   "execution_count": null,
   "metadata": {},
   "outputs": [],
   "source": [
    "# barplot\n",
    "univariate_barplot(data=df, column=\"notRepairedDamage\")"
   ]
  },
  {
   "cell_type": "markdown",
   "metadata": {},
   "source": [
    "#### brand column"
   ]
  },
  {
   "cell_type": "code",
   "execution_count": null,
   "metadata": {},
   "outputs": [],
   "source": [
    "# value counts\n",
    "df.brand.value_counts()"
   ]
  },
  {
   "cell_type": "code",
   "execution_count": null,
   "metadata": {},
   "outputs": [],
   "source": [
    "df.columns"
   ]
  },
  {
   "cell_type": "code",
   "execution_count": null,
   "metadata": {},
   "outputs": [],
   "source": [
    "df.head(2)"
   ]
  },
  {
   "cell_type": "code",
   "execution_count": null,
   "metadata": {},
   "outputs": [],
   "source": [
    "univariate_barplot(data=df, column=\"fuelType\")"
   ]
  },
  {
   "cell_type": "code",
   "execution_count": null,
   "metadata": {},
   "outputs": [],
   "source": [
    "df.notRepairedDamage.value_counts()"
   ]
  },
  {
   "cell_type": "code",
   "execution_count": null,
   "metadata": {},
   "outputs": [],
   "source": [
    "df.columns"
   ]
  },
  {
   "cell_type": "code",
   "execution_count": null,
   "metadata": {},
   "outputs": [],
   "source": []
  },
  {
   "cell_type": "code",
   "execution_count": null,
   "metadata": {},
   "outputs": [],
   "source": [
    "df.head(2)"
   ]
  },
  {
   "cell_type": "code",
   "execution_count": null,
   "metadata": {},
   "outputs": [],
   "source": [
    "df.yearOfRegistration.unique()"
   ]
  },
  {
   "cell_type": "code",
   "execution_count": null,
   "metadata": {},
   "outputs": [],
   "source": []
  },
  {
   "cell_type": "code",
   "execution_count": null,
   "metadata": {},
   "outputs": [],
   "source": [
    "df.model"
   ]
  },
  {
   "cell_type": "code",
   "execution_count": null,
   "metadata": {},
   "outputs": [],
   "source": [
    "df.model.value_counts()"
   ]
  },
  {
   "cell_type": "code",
   "execution_count": null,
   "metadata": {},
   "outputs": [],
   "source": [
    "sns.scatterplot(data=df, x=\"price\", y=\"yearOfRegistration\", hue=\"notRepairedDamage\")"
   ]
  },
  {
   "cell_type": "code",
   "execution_count": null,
   "metadata": {},
   "outputs": [],
   "source": [
    "sns.boxplot(df[\"price\"])\n",
    "sns.stripplot(df[\"price\"])"
   ]
  },
  {
   "cell_type": "code",
   "execution_count": null,
   "metadata": {},
   "outputs": [],
   "source": [
    "sns.histplot(data=df, x=\"price\", kde=True)"
   ]
  },
  {
   "cell_type": "code",
   "execution_count": null,
   "metadata": {},
   "outputs": [],
   "source": []
  }
 ],
 "metadata": {
  "kernelspec": {
   "display_name": "Python 3 (ipykernel)",
   "language": "python",
   "name": "python3"
  },
  "language_info": {
   "codemirror_mode": {
    "name": "ipython",
    "version": 3
   },
   "file_extension": ".py",
   "mimetype": "text/x-python",
   "name": "python",
   "nbconvert_exporter": "python",
   "pygments_lexer": "ipython3",
   "version": "3.12.0"
  }
 },
 "nbformat": 4,
 "nbformat_minor": 4
}
